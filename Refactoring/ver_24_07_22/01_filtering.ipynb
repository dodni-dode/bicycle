{
 "cells": [
  {
   "cell_type": "markdown",
   "metadata": {},
   "source": [
    "##### each_all.csv 파일은 23년 1월~12월 까지의 따릉이 이용정보 마스터 파일을 합친 파일 입니다."
   ]
  },
  {
   "cell_type": "code",
   "execution_count": 1,
   "metadata": {},
   "outputs": [],
   "source": [
    "import time\n",
    "import datetime\n",
    "import pandas as pd\n",
    "import numpy as np\n",
    "import typing as tp\n",
    "import re\n",
    "import matplotlib.pyplot as plt\n",
    "import folium\n",
    "import requests\n",
    "import os\n",
    "import gc\n",
    "import seaborn as sns\n",
    "# 필터링 용 커스텀 라이브러리\n",
    "import MiniP as mp"
   ]
  },
  {
   "cell_type": "markdown",
   "metadata": {},
   "source": [
    "# year data"
   ]
  },
  {
   "cell_type": "code",
   "execution_count": 2,
   "metadata": {},
   "outputs": [],
   "source": [
    "# 최적화 함수 정의\n",
    "def optimize_dataframe(df):\n",
    "    # 숫자형 컬럼의 데이터 타입을 다운캐스팅\n",
    "    for col in df.select_dtypes(include=['int']).columns:\n",
    "        df[col] = pd.to_numeric(df[col], downcast='unsigned')\n",
    "    for col in df.select_dtypes(include=['float']).columns:\n",
    "        df[col] = pd.to_numeric(df[col], downcast='float')\n",
    "    # 범주형 데이터로 변환\n",
    "    for col in df.select_dtypes(include=['object']).columns:\n",
    "        num_unique_values = len(df[col].unique())\n",
    "        num_total_values = len(df[col])\n",
    "        if num_unique_values / num_total_values < 0.5:\n",
    "            df[col] = df[col].astype('category')\n",
    "    return df\n",
    "#\n",
    "# 청크 단위로 데이터 로드 및 최적화\n",
    "chunk_size = 100000  # 청크 사이즈 설정\n",
    "chunks = []\n",
    "for chunk in pd.read_csv('data/all_each.csv', chunksize=chunk_size):\n",
    "    chunk_optimized = optimize_dataframe(chunk)\n",
    "    chunks.append(chunk_optimized)\n",
    "    del chunk, chunk_optimized\n",
    "    gc.collect()\n",
    "#\n",
    "# 모든 청크를 결합\n",
    "df_optimized = pd.concat(chunks, ignore_index=True)\n",
    "year_data_df_all = df_optimized\n",
    "del df_optimized, chunks\n",
    "gc.collect()\n",
    "filename1 = r\"data/rental_id.csv\" #파일명 작성\n",
    "data = pd.read_csv(filename1,encoding='cp949')       \n",
    "rental_id_df_all = pd.DataFrame(data)\n",
    "year_data_df_sel = year_data_df_all[['대여일시','이용시간(분)','이용거리(M)','생년','성별','대여대여소ID','반납대여소ID']]\n",
    "year_data_df_sel.columns = ['StartTime','UseTimeM','UseDistM','Birth','Gender','StartId','EndId']\n",
    "rental_id_df_sel = rental_id_df_all[['대여소_ID', '주소1', '주소2','위도', '경도']]\n",
    "rental_id_df_sel.columns = ['Id','Addr1','Addr2','Lat','Lon']"
   ]
  },
  {
   "cell_type": "markdown",
   "metadata": {},
   "source": [
    "# 필터링 라이브러리"
   ]
  },
  {
   "cell_type": "code",
   "execution_count": 3,
   "metadata": {},
   "outputs": [
    {
     "ename": "NameError",
     "evalue": "name 'np' is not defined",
     "output_type": "error",
     "traceback": [
      "\u001b[1;31m---------------------------------------------------------------------------\u001b[0m",
      "\u001b[1;31mNameError\u001b[0m                                 Traceback (most recent call last)",
      "Cell \u001b[1;32mIn[3], line 3\u001b[0m\n\u001b[0;32m      1\u001b[0m \u001b[38;5;66;03m# 만일 각각의 필터링에 이상 사항이 생기면 직접수정 또는 오버라이딩을 통해 라이브러리를 수정하여 재배포 해주세요\u001b[39;00m\n\u001b[0;32m      2\u001b[0m year \u001b[38;5;241m=\u001b[39m mp\u001b[38;5;241m.\u001b[39mFilter(year_data_df_sel)\n\u001b[1;32m----> 3\u001b[0m year_df \u001b[38;5;241m=\u001b[39m \u001b[43myear\u001b[49m\u001b[38;5;241;43m.\u001b[39;49m\u001b[43mnan_filter\u001b[49m\n\u001b[0;32m      4\u001b[0m year_df \u001b[38;5;241m=\u001b[39m year\u001b[38;5;241m.\u001b[39mage_filter\n\u001b[0;32m      5\u001b[0m year_df \u001b[38;5;241m=\u001b[39m year\u001b[38;5;241m.\u001b[39mdatetime_filter\n",
      "File \u001b[1;32md:\\mini\\py\\MiniP.py:27\u001b[0m, in \u001b[0;36mFilter.nan_filter\u001b[1;34m(self)\u001b[0m\n\u001b[0;32m     25\u001b[0m \u001b[38;5;129m@property\u001b[39m\n\u001b[0;32m     26\u001b[0m \u001b[38;5;28;01mdef\u001b[39;00m \u001b[38;5;21mnan_filter\u001b[39m(\u001b[38;5;28mself\u001b[39m):\n\u001b[1;32m---> 27\u001b[0m     \u001b[38;5;28mself\u001b[39m\u001b[38;5;241m.\u001b[39mdf \u001b[38;5;241m=\u001b[39m \u001b[38;5;28mself\u001b[39m\u001b[38;5;241m.\u001b[39mdf\u001b[38;5;241m.\u001b[39mreplace(\u001b[38;5;124mr\u001b[39m\u001b[38;5;124m'\u001b[39m\u001b[38;5;124m\\\u001b[39m\u001b[38;5;124mN\u001b[39m\u001b[38;5;124m'\u001b[39m, \u001b[43mnp\u001b[49m\u001b[38;5;241m.\u001b[39mnan)\n\u001b[0;32m     28\u001b[0m     \u001b[38;5;28mself\u001b[39m\u001b[38;5;241m.\u001b[39mdf \u001b[38;5;241m=\u001b[39m \u001b[38;5;28mself\u001b[39m\u001b[38;5;241m.\u001b[39mdf\u001b[38;5;241m.\u001b[39mreplace(\u001b[38;5;124mr\u001b[39m\u001b[38;5;124m'\u001b[39m\u001b[38;5;130;01m\\\\\u001b[39;00m\u001b[38;5;124mN\u001b[39m\u001b[38;5;124m'\u001b[39m, np\u001b[38;5;241m.\u001b[39mnan)\n\u001b[0;32m     29\u001b[0m     \u001b[38;5;28mself\u001b[39m\u001b[38;5;241m.\u001b[39mdf \u001b[38;5;241m=\u001b[39m \u001b[38;5;28mself\u001b[39m\u001b[38;5;241m.\u001b[39mdf\u001b[38;5;241m.\u001b[39mfillna(\u001b[38;5;124m'\u001b[39m\u001b[38;5;124mETC\u001b[39m\u001b[38;5;124m'\u001b[39m)\n",
      "\u001b[1;31mNameError\u001b[0m: name 'np' is not defined"
     ]
    }
   ],
   "source": [
    "# 만일 각각의 필터링에 이상 사항이 생기면 직접수정 또는 오버라이딩을 통해 라이브러리를 수정하여 재배포 해주세요\n",
    "year = mp.Filter(year_data_df_sel)\n",
    "year_df = year.nan_filter\n",
    "year_df = year.age_filter\n",
    "year_df = year.datetime_filter\n",
    "year_df = year.gender_filter\n",
    "year_df = year.rental_id_filter\n",
    "del year_data_df_sel\n",
    "gc.collect()\n",
    "rental_id = mp.Filter(rental_id_df_sel)\n",
    "rental_id_df = rental_id.nan_filter\n",
    "rental_id_df = rental_id.rental_id_filter\n",
    "del rental_id_df_sel\n",
    "gc.collect()\n",
    "# 청크 사이즈 설정\n",
    "chunk_size = 100000\n",
    "# 첫 번째 파일을 청크 단위로 읽고 병합\n",
    "chunks = []\n",
    "# 2중 청크 반복문 \n",
    "for i in range(0, len(year_df), chunk_size):\n",
    "    chunk1 = year_df[i:i + chunk_size]\n",
    "    chunk1 = optimize_dataframe(chunk1)\n",
    "    for k in range(0, len(rental_id_df), chunk_size):\n",
    "        chunk2 = rental_id_df[k:k + chunk_size]\n",
    "        chunk2 = optimize_dataframe(chunk2)\n",
    "        merged_chunk = pd.merge(chunk1, chunk2, left_on='StartId', right_on='Id', how='left')\n",
    "        chunks.append(merged_chunk)\n",
    "big_df = pd.concat(chunks, ignore_index=True)\n"
   ]
  },
  {
   "cell_type": "markdown",
   "metadata": {},
   "source": [
    "##### 아래 코드는 실행하지 마시오\n",
    "###### GeoPy 를 이용해 위도,경도 값을 주소로 받아오는 부분\n",
    "###### 변환 시간이 50 분 정도 임으로 따로 CSV 파일로 저장 후 사용 중"
   ]
  },
  {
   "cell_type": "code",
   "execution_count": null,
   "metadata": {},
   "outputs": [],
   "source": [
    "# #\n",
    "# # 대여소 id 데이터의 위도 경도 값을 받아와 주소를 반환하는 기능\n",
    "# #\n",
    "# rental_id_df_sel_id = rental_id_df_sel['Id'].astype(str).tolist()\n",
    "# rental_id_df_sel_lat = rental_id_df_sel['Lat'].astype(float).tolist()\n",
    "# rental_id_df_sel_lon = rental_id_df_sel['Lon'].astype(float).tolist()\n",
    "# #\n",
    "# from geopy.geocoders import Nominatim\n",
    "# #\n",
    "# address_ls = []\n",
    "# #\n",
    "# def geocoding_reverse(lat_lng_str): \n",
    "#     # Nomination : 지리적 좌표를 주소로 변환\n",
    "#     geolocoder = Nominatim(user_agent = 'South Korea', timeout=None)\n",
    "#     # reverse : 위도와 경도를 입력하면 그 위치의 주소를 반환\n",
    "#     address = geolocoder.reverse(lat_lng_str)\n",
    "#     #\n",
    "#     return address\n",
    "#     #\n",
    "# #   \n",
    "# for i,k in zip(rental_id_df_sel_lat, rental_id_df_sel_har):\n",
    "#     address = geocoding_reverse(f'{i}, {k}')\n",
    "#     address_ls.append(address)\n",
    "#     print(address)\n",
    "#     #\n",
    "# #\n",
    "# addr_GeoPy = pd.DataFrame(address_ls)\n",
    "# addr_GeoPy.to_csv('data/addr_GeoPy.csv', encoding='cp949', index=False)"
   ]
  },
  {
   "cell_type": "code",
   "execution_count": null,
   "metadata": {},
   "outputs": [],
   "source": [
    "# GeoPy롤 위도 경도 값으로 대여소 주소를 가져옴\n",
    "# 이유는 기존 데이터의 주소가 신주소로 되어 있어,\n",
    "# 구, 동 구분이 명확하지 않아 구주소로 변환하기 위함\n",
    "filename0 = r\"data/addr_GeoPy.csv\" #파일명 작성\n",
    "data = pd.read_csv(filename0,encoding='cp949')       \n",
    "local_df = pd.DataFrame(data)\n",
    "local_df.columns = ['Id','LocalName', 'LocalNum']\n",
    "# 필터링 라이브러리르 이용하여 GeoPy 데이터에서 구와 동을 추출\n",
    "local = mp.Filter(local_df)\n",
    "local_df = local.dong_filter\n",
    "local_df = local.gu_filter\n",
    "local_df = local.simplify_dong\n",
    "local_df = local_df[local_df['LocalName'] != 'Soul Buoy']\n",
    "local_df = local_df[['Id','Gu','Dong2']]\n",
    "local_df.rename(columns = {'Dong2':'Dong'}, inplace = True)\n",
    "import gc\n",
    "def get_chunks(df, chunk_size):\n",
    "    num_chunks = len(df) // chunk_size + int(len(df) % chunk_size != 0)\n",
    "    for i in range(num_chunks):\n",
    "        # yield 구문은 제너레이터를 리턴합니다.\n",
    "        # 제너레이터는 이터레이터를 생성해주는 함수입니다.\n",
    "        # yield 구문을 사용하면 함수는 제너레이터가 되며, 이터레이터처럼 동작합니다.\n",
    "        # yield 구문을 사용하면 함수는 호출된 위치의 상태를 기억하고 다음 호출 시 이어서 실행합니다.\n",
    "        # 일반적으로 return 구문은 함수를 종료하고 값을 반환하지만, \n",
    "        # yield 구문은 값을 반환한 후 일시정지하고 다음 호출 시 이어서 실행합니다.    \n",
    "        # 이것은 메모리 측면에서 효율적입니다.\n",
    "        # for 문의 모든 값을 한번에 return 하는 것이 아니라, \n",
    "        # yield를 통해 하나씩 반환합니다.\n",
    "        yield df[i*chunk_size:(i+1)*chunk_size]\n",
    "        #\n",
    "    #\n",
    "#\n",
    "def merge_and_optimize_chunks(df1, df2, chunk_size):\n",
    "    chunks = []\n",
    "    for chunk1 in get_chunks(df1, chunk_size):\n",
    "        for chunk2 in get_chunks(df2, chunk_size):\n",
    "            merged_chunk = pd.merge(chunk1, chunk2, left_on='Id', right_on='Id', how='left')\n",
    "            chunks.append(merged_chunk)\n",
    "            del merged_chunk, chunk2, chunk1\n",
    "            gc.collect()\n",
    "    big_df = pd.concat(chunks, ignore_index=True)\n",
    "    return big_df\n",
    "id_gu_dong_df = merge_and_optimize_chunks(local_df, rental_id_df, 100000)\n",
    "id_gu_dong_df = id_gu_dong_df[['Id','Gu','Dong']]"
   ]
  },
  {
   "cell_type": "markdown",
   "metadata": {},
   "source": [
    "#### 아래 파일은 MiniPFinal-2 에서 id_gu_dong_etc_change 로 수정 되어 사용됩니다.\n",
    "###### 수정된 이유는 폐쇠된 대여소 가 etc 로 찍혀 80 여개의 정보가 누락되어 수기로 채워 넣었기 때문입니다."
   ]
  },
  {
   "cell_type": "code",
   "execution_count": null,
   "metadata": {},
   "outputs": [],
   "source": [
    "id_gu_dong_df.to_csv('data/id_gu_dong.csv', index=False, encoding='cp949')"
   ]
  }
 ],
 "metadata": {
  "kernelspec": {
   "display_name": "Python 3",
   "language": "python",
   "name": "python3"
  },
  "language_info": {
   "codemirror_mode": {
    "name": "ipython",
    "version": 3
   },
   "file_extension": ".py",
   "mimetype": "text/x-python",
   "name": "python",
   "nbconvert_exporter": "python",
   "pygments_lexer": "ipython3",
   "version": "3.12.3"
  }
 },
 "nbformat": 4,
 "nbformat_minor": 2
}

{
 "cells": [
  {
   "cell_type": "code",
   "execution_count": null,
   "metadata": {},
   "outputs": [],
   "source": [
    "import time\n",
    "import datetime\n",
    "import pandas as pd\n",
    "import numpy as np\n",
    "import typing as tp\n",
    "import re\n",
    "import matplotlib.pyplot as plt\n",
    "import folium\n",
    "import requests\n",
    "import os\n",
    "import gc\n",
    "import seaborn as sns\n",
    "import MiniP as mp\n",
    "#\n",
    "# 사용할 한글 폰트 설정 및 적용\n",
    "plt.rcParams['font.family'] = 'Malgun Gothic'\n",
    "plt.rcParams['axes.unicode_minus'] = False"
   ]
  },
  {
   "cell_type": "code",
   "execution_count": null,
   "metadata": {},
   "outputs": [],
   "source": [
    "#따릉이 23년 대여이력(월별) 1-6월/ 7-12월 파일 불러오기 \n",
    "data_1 = pd.read_csv(\"data/1_6_M.csv\",encoding=\"cp949\")\n",
    "data_2 = pd.read_csv(\"data/7_12_M.csv\",encoding=\"cp949\")\n",
    "\n",
    "#커스텀 라이브러리로 필터링\n",
    "df1_6= mp.Filter(data_1)\n",
    "df7_12= mp.Filter(data_2)\n",
    "\n",
    "df_1_6= df1_6.nan_filter\n",
    "df_7_12=df7_12.nan_filter\n",
    "\n",
    "#불필요한 컬럼 drop, 현재 데이터 프레임에 적용 inplace = True\n",
    "df_7_12.drop([\"대여소번호\",\"운동량\",\"탄소량\"],axis=1,inplace=True)\n",
    "df_1_6.drop([\"대여소번호\",\"운동량\",\"탄소량\"],axis=1,inplace=True)\n",
    "\n",
    "#컬럼명 변경(영어로)\n",
    "df_1_6.columns=[\"date(Month)\",\"addr\",\"code\",\"Gender\",\"Birth\",\"Usecount\",\"Use_distant(m)\",\" UseTime(m)\"]\n",
    "df_7_12.columns=[\"date(Month)\",\"addr\",\"code\",\"Gender\",\"Birth\",\"Usecount\",\"Use_distant(m)\",\" UseTime(m)\"]\n",
    "\n",
    "#Gender m,f를 M,F로 변경\n",
    "df_7_12['Gender'] = df_7_12['Gender'].apply(str.upper)\n",
    "df_1_6['Gender'] = df_1_6['Gender'].apply(str.upper)\n",
    "\n",
    "#월별 데이터 통합(행)\n",
    "all_month= pd.concat([df_1_6, df_7_12], axis = 0)\n",
    "\n",
    "# 나이(Birth)를 기준으로 Usecount(대여소별 월 사용횟수)를 더함(sum)\n",
    "Birth_gro= all_month.groupby(\"Birth\").agg({\"Usecount\":\"sum\"})\n",
    "\n",
    "# laberl을 위해\n",
    "label=[\"10대\",\"20대\",\"30대\",\"40대\",\"50대\",\"60대\",\"70대 이상\",\"기타\"]\n",
    "\n",
    "# 부채꼴 파이 차트의 중심에서 벗어나는 정도 설정  \n",
    "explode = [0.1, 0.1, 0, 0,0,0,0,0] \n",
    "\n",
    "plt.figure(figsize=(15,10))\n",
    "# 설정할 컬러 \n",
    "colors = ['#ff9999', 'cornflowerblue', 'gold', 'orchid', 'green',\"#77BFE2\",\"#d395d0\",\"#8fd9b6\"]\n",
    "#pie(\n",
    "# 사용할 데이터 프레임 컬럼명, \n",
    "# labels라벨링, \n",
    "# autopct 소수점 자릿수, \n",
    "# startangle 부채꼴 시작각도, \n",
    "# counterclock = False 시계방향순서,\n",
    "# shadow 그림자, \n",
    "# colors 색상(리스트형식), \n",
    "# textprops 딕셔너리)\n",
    "plt.pie(Birth_gro[\"Usecount\"],labels = label,autopct='%.1f%%',startangle=260, counterclock=False, explode=explode, shadow=True, colors=colors,textprops={'fontsize':14})\n",
    "#제목설정\n",
    "plt.title(\"2023년도 나이별 따릉이 사용률\",fontsize=20)\n",
    "plt.show() "
   ]
  },
  {
   "cell_type": "code",
   "execution_count": null,
   "metadata": {},
   "outputs": [],
   "source": [
    "sns.heatmap(all_month.corr(numeric_only=True),annot=True,fmt='.2f',linewidths=5)\n",
    "plt.title(\"23년 월별 이용 상관관계\")\n",
    "plt.show()"
   ]
  },
  {
   "cell_type": "code",
   "execution_count": null,
   "metadata": {},
   "outputs": [],
   "source": [
    "# 산점도 , x축에 사용횟수, y축에 나이를 성별로 나눠서\n",
    "color= {\"M\":\"blue\",\"F\":\"orange\",\"ETC\":\"green\"}\n",
    "sns.scatterplot(data=all_month,x='Usecount',y='Birth',hue = \"Gender\",hue_order=(\"M\",\"F\",\"ETC\"),palette=color)\n",
    "plt.ylabel(\"age\")\n",
    "plt.rc('font', size=20 )\n",
    "plt.title(\"23년 성별에 따른 나이대별 이용 횟수\")\n",
    "plt.show()"
   ]
  }
 ],
 "metadata": {
  "language_info": {
   "name": "python"
  }
 },
 "nbformat": 4,
 "nbformat_minor": 2
}
